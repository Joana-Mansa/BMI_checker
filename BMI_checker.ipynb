{
 "cells": [
  {
   "cell_type": "code",
   "execution_count": null,
   "metadata": {},
   "outputs": [],
   "source": [
    "# imports tkinter a GUI package\n",
    "import tkinter as tk\n",
    "\n",
    "# this function performs the bmi calculation\n",
    "\n",
    "def calculate_bmi():\n",
    "    get_height_cm = float(entry_height.get())\n",
    "    get_weight = float(entry_weight.get())\n",
    "    height_m = get_height_cm / 100\n",
    "    \n",
    "    # the bmi formula\n",
    "    bmi = get_weight / (height_m) ** 2\n",
    "    label_bmi.configure(text=f'Your bmi is : {bmi}')\n",
    "    \n",
    "    # commands for the various scenarios\n",
    "    if bmi < 18.5:\n",
    "        label_result.configure(text=f'You are underweight')\n",
    "    elif bmi > 18.5 and bmi < 24.9:\n",
    "        label_result.configure(text=f'You have a healthy weight')\n",
    "    elif bmi > 25.0 and bmi < 29.9:\n",
    "        label_result.configure(text=f'You are overweight')\n",
    "    elif bmi > 30:\n",
    "        label_result.configure(text=f'You are obese')\n",
    "\n",
    "# specifications for the GUI window \n",
    "window = tk.Tk()\n",
    "window.title('BMI checker')\n",
    "label_height = tk.Label(text=\"Enter your height in cm\")\n",
    "entry_height = tk.Entry(width=25)\n",
    "label_weight = tk.Label(text=\"Enter your weight in kg\")\n",
    "entry_weight = tk.Entry(width=25)\n",
    "label_bmi = tk.Label()\n",
    "label_result = tk.Label()\n",
    "button_calc = tk.Button(text=\"Calculate\", command=calculate_bmi)\n",
    "label_height.pack()\n",
    "entry_height.pack()\n",
    "label_weight.pack()\n",
    "entry_weight.pack()\n",
    "label_bmi.pack()\n",
    "label_result.pack()\n",
    "button_calc.pack()\n",
    "\n",
    "window.mainloop()"
   ]
  },
  {
   "cell_type": "code",
   "execution_count": null,
   "metadata": {},
   "outputs": [],
   "source": []
  }
 ],
 "metadata": {
  "kernelspec": {
   "display_name": "Python 3",
   "language": "python",
   "name": "python3"
  },
  "language_info": {
   "codemirror_mode": {
    "name": "ipython",
    "version": 3
   },
   "file_extension": ".py",
   "mimetype": "text/x-python",
   "name": "python",
   "nbconvert_exporter": "python",
   "pygments_lexer": "ipython3",
   "version": "3.8.5"
  }
 },
 "nbformat": 4,
 "nbformat_minor": 4
}
